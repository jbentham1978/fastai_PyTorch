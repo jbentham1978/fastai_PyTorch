{
  "cells": [
    {
      "cell_type": "code",
      "execution_count": null,
      "metadata": {
        "id": "1XYcXi1nUVoP",
        "colab": {
          "base_uri": "https://localhost:8080/"
        },
        "outputId": "2848d6c1-899b-45a4-f3ae-31180357b958"
      },
      "outputs": [
        {
          "output_type": "stream",
          "name": "stdout",
          "text": [
            "Enabling: voila\n",
            "- Writing config: /usr/etc/jupyter\n",
            "    - Validating...\n",
            "Error loading server extension voila\n",
            "     \u001b[31m X\u001b[0m is voila importable?\n"
          ]
        }
      ],
      "source": [
        "from fastai.vision.all import *\n",
        "from fastai.vision.widgets import *\n",
        "from ipywidgets import *\n",
        "from IPython.display import display"
      ]
    },
    {
      "cell_type": "code",
      "execution_count": null,
      "metadata": {
        "id": "g7voy-zIUVoj",
        "colab": {
          "base_uri": "https://localhost:8080/",
          "height": 346
        },
        "outputId": "f207d4f3-34c2-457c-daff-d5654c4f8648"
      },
      "outputs": [
        {
          "output_type": "error",
          "ename": "FileNotFoundError",
          "evalue": "ignored",
          "traceback": [
            "\u001b[0;31m---------------------------------------------------------------------------\u001b[0m",
            "\u001b[0;31mFileNotFoundError\u001b[0m                         Traceback (most recent call last)",
            "\u001b[0;32m<ipython-input-2-9c1e2f151912>\u001b[0m in \u001b[0;36m<cell line: 2>\u001b[0;34m()\u001b[0m\n\u001b[1;32m      1\u001b[0m \u001b[0mpath\u001b[0m \u001b[0;34m=\u001b[0m \u001b[0mPath\u001b[0m\u001b[0;34m(\u001b[0m\u001b[0;34m)\u001b[0m\u001b[0;34m\u001b[0m\u001b[0;34m\u001b[0m\u001b[0m\n\u001b[0;32m----> 2\u001b[0;31m \u001b[0mlearn_inf\u001b[0m \u001b[0;34m=\u001b[0m \u001b[0mload_learner\u001b[0m\u001b[0;34m(\u001b[0m\u001b[0mpath\u001b[0m\u001b[0;34m/\u001b[0m\u001b[0;34m'export.pkl'\u001b[0m\u001b[0;34m)\u001b[0m\u001b[0;34m\u001b[0m\u001b[0;34m\u001b[0m\u001b[0m\n\u001b[0m",
            "\u001b[0;32m/usr/local/lib/python3.10/dist-packages/fastai/learner.py\u001b[0m in \u001b[0;36mload_learner\u001b[0;34m(fname, cpu, pickle_module)\u001b[0m\n\u001b[1;32m    444\u001b[0m     \u001b[0mdistrib_barrier\u001b[0m\u001b[0;34m(\u001b[0m\u001b[0;34m)\u001b[0m\u001b[0;34m\u001b[0m\u001b[0;34m\u001b[0m\u001b[0m\n\u001b[1;32m    445\u001b[0m     \u001b[0mmap_loc\u001b[0m \u001b[0;34m=\u001b[0m \u001b[0;34m'cpu'\u001b[0m \u001b[0;32mif\u001b[0m \u001b[0mcpu\u001b[0m \u001b[0;32melse\u001b[0m \u001b[0mdefault_device\u001b[0m\u001b[0;34m(\u001b[0m\u001b[0;34m)\u001b[0m\u001b[0;34m\u001b[0m\u001b[0;34m\u001b[0m\u001b[0m\n\u001b[0;32m--> 446\u001b[0;31m     \u001b[0;32mtry\u001b[0m\u001b[0;34m:\u001b[0m \u001b[0mres\u001b[0m \u001b[0;34m=\u001b[0m \u001b[0mtorch\u001b[0m\u001b[0;34m.\u001b[0m\u001b[0mload\u001b[0m\u001b[0;34m(\u001b[0m\u001b[0mfname\u001b[0m\u001b[0;34m,\u001b[0m \u001b[0mmap_location\u001b[0m\u001b[0;34m=\u001b[0m\u001b[0mmap_loc\u001b[0m\u001b[0;34m,\u001b[0m \u001b[0mpickle_module\u001b[0m\u001b[0;34m=\u001b[0m\u001b[0mpickle_module\u001b[0m\u001b[0;34m)\u001b[0m\u001b[0;34m\u001b[0m\u001b[0;34m\u001b[0m\u001b[0m\n\u001b[0m\u001b[1;32m    447\u001b[0m     \u001b[0;32mexcept\u001b[0m \u001b[0mAttributeError\u001b[0m \u001b[0;32mas\u001b[0m \u001b[0me\u001b[0m\u001b[0;34m:\u001b[0m\u001b[0;34m\u001b[0m\u001b[0;34m\u001b[0m\u001b[0m\n\u001b[1;32m    448\u001b[0m         \u001b[0me\u001b[0m\u001b[0;34m.\u001b[0m\u001b[0margs\u001b[0m \u001b[0;34m=\u001b[0m \u001b[0;34m[\u001b[0m\u001b[0;34mf\"Custom classes or functions exported with your `Learner` not available in namespace.\\Re-declare/import before loading:\\n\\t{e.args[0]}\"\u001b[0m\u001b[0;34m]\u001b[0m\u001b[0;34m\u001b[0m\u001b[0;34m\u001b[0m\u001b[0m\n",
            "\u001b[0;32m/usr/local/lib/python3.10/dist-packages/torch/serialization.py\u001b[0m in \u001b[0;36mload\u001b[0;34m(f, map_location, pickle_module, weights_only, **pickle_load_args)\u001b[0m\n\u001b[1;32m    789\u001b[0m         \u001b[0mpickle_load_args\u001b[0m\u001b[0;34m[\u001b[0m\u001b[0;34m'encoding'\u001b[0m\u001b[0;34m]\u001b[0m \u001b[0;34m=\u001b[0m \u001b[0;34m'utf-8'\u001b[0m\u001b[0;34m\u001b[0m\u001b[0;34m\u001b[0m\u001b[0m\n\u001b[1;32m    790\u001b[0m \u001b[0;34m\u001b[0m\u001b[0m\n\u001b[0;32m--> 791\u001b[0;31m     \u001b[0;32mwith\u001b[0m \u001b[0m_open_file_like\u001b[0m\u001b[0;34m(\u001b[0m\u001b[0mf\u001b[0m\u001b[0;34m,\u001b[0m \u001b[0;34m'rb'\u001b[0m\u001b[0;34m)\u001b[0m \u001b[0;32mas\u001b[0m \u001b[0mopened_file\u001b[0m\u001b[0;34m:\u001b[0m\u001b[0;34m\u001b[0m\u001b[0;34m\u001b[0m\u001b[0m\n\u001b[0m\u001b[1;32m    792\u001b[0m         \u001b[0;32mif\u001b[0m \u001b[0m_is_zipfile\u001b[0m\u001b[0;34m(\u001b[0m\u001b[0mopened_file\u001b[0m\u001b[0;34m)\u001b[0m\u001b[0;34m:\u001b[0m\u001b[0;34m\u001b[0m\u001b[0;34m\u001b[0m\u001b[0m\n\u001b[1;32m    793\u001b[0m             \u001b[0;31m# The zipfile reader is going to advance the current file position.\u001b[0m\u001b[0;34m\u001b[0m\u001b[0;34m\u001b[0m\u001b[0m\n",
            "\u001b[0;32m/usr/local/lib/python3.10/dist-packages/torch/serialization.py\u001b[0m in \u001b[0;36m_open_file_like\u001b[0;34m(name_or_buffer, mode)\u001b[0m\n\u001b[1;32m    269\u001b[0m \u001b[0;32mdef\u001b[0m \u001b[0m_open_file_like\u001b[0m\u001b[0;34m(\u001b[0m\u001b[0mname_or_buffer\u001b[0m\u001b[0;34m,\u001b[0m \u001b[0mmode\u001b[0m\u001b[0;34m)\u001b[0m\u001b[0;34m:\u001b[0m\u001b[0;34m\u001b[0m\u001b[0;34m\u001b[0m\u001b[0m\n\u001b[1;32m    270\u001b[0m     \u001b[0;32mif\u001b[0m \u001b[0m_is_path\u001b[0m\u001b[0;34m(\u001b[0m\u001b[0mname_or_buffer\u001b[0m\u001b[0;34m)\u001b[0m\u001b[0;34m:\u001b[0m\u001b[0;34m\u001b[0m\u001b[0;34m\u001b[0m\u001b[0m\n\u001b[0;32m--> 271\u001b[0;31m         \u001b[0;32mreturn\u001b[0m \u001b[0m_open_file\u001b[0m\u001b[0;34m(\u001b[0m\u001b[0mname_or_buffer\u001b[0m\u001b[0;34m,\u001b[0m \u001b[0mmode\u001b[0m\u001b[0;34m)\u001b[0m\u001b[0;34m\u001b[0m\u001b[0;34m\u001b[0m\u001b[0m\n\u001b[0m\u001b[1;32m    272\u001b[0m     \u001b[0;32melse\u001b[0m\u001b[0;34m:\u001b[0m\u001b[0;34m\u001b[0m\u001b[0;34m\u001b[0m\u001b[0m\n\u001b[1;32m    273\u001b[0m         \u001b[0;32mif\u001b[0m \u001b[0;34m'w'\u001b[0m \u001b[0;32min\u001b[0m \u001b[0mmode\u001b[0m\u001b[0;34m:\u001b[0m\u001b[0;34m\u001b[0m\u001b[0;34m\u001b[0m\u001b[0m\n",
            "\u001b[0;32m/usr/local/lib/python3.10/dist-packages/torch/serialization.py\u001b[0m in \u001b[0;36m__init__\u001b[0;34m(self, name, mode)\u001b[0m\n\u001b[1;32m    250\u001b[0m \u001b[0;32mclass\u001b[0m \u001b[0m_open_file\u001b[0m\u001b[0;34m(\u001b[0m\u001b[0m_opener\u001b[0m\u001b[0;34m)\u001b[0m\u001b[0;34m:\u001b[0m\u001b[0;34m\u001b[0m\u001b[0;34m\u001b[0m\u001b[0m\n\u001b[1;32m    251\u001b[0m     \u001b[0;32mdef\u001b[0m \u001b[0m__init__\u001b[0m\u001b[0;34m(\u001b[0m\u001b[0mself\u001b[0m\u001b[0;34m,\u001b[0m \u001b[0mname\u001b[0m\u001b[0;34m,\u001b[0m \u001b[0mmode\u001b[0m\u001b[0;34m)\u001b[0m\u001b[0;34m:\u001b[0m\u001b[0;34m\u001b[0m\u001b[0;34m\u001b[0m\u001b[0m\n\u001b[0;32m--> 252\u001b[0;31m         \u001b[0msuper\u001b[0m\u001b[0;34m(\u001b[0m\u001b[0;34m)\u001b[0m\u001b[0;34m.\u001b[0m\u001b[0m__init__\u001b[0m\u001b[0;34m(\u001b[0m\u001b[0mopen\u001b[0m\u001b[0;34m(\u001b[0m\u001b[0mname\u001b[0m\u001b[0;34m,\u001b[0m \u001b[0mmode\u001b[0m\u001b[0;34m)\u001b[0m\u001b[0;34m)\u001b[0m\u001b[0;34m\u001b[0m\u001b[0;34m\u001b[0m\u001b[0m\n\u001b[0m\u001b[1;32m    253\u001b[0m \u001b[0;34m\u001b[0m\u001b[0m\n\u001b[1;32m    254\u001b[0m     \u001b[0;32mdef\u001b[0m \u001b[0m__exit__\u001b[0m\u001b[0;34m(\u001b[0m\u001b[0mself\u001b[0m\u001b[0;34m,\u001b[0m \u001b[0;34m*\u001b[0m\u001b[0margs\u001b[0m\u001b[0;34m)\u001b[0m\u001b[0;34m:\u001b[0m\u001b[0;34m\u001b[0m\u001b[0;34m\u001b[0m\u001b[0m\n",
            "\u001b[0;31mFileNotFoundError\u001b[0m: [Errno 2] No such file or directory: 'export.pkl'"
          ]
        }
      ],
      "source": [
        "learn_inf = load_learner('export.pkl')"
      ]
    },
    {
      "cell_type": "code",
      "source": [
        "btn_run = widgets.Button(description='Classify')\n",
        "lbl_pred = widgets.Label('test')"
      ],
      "metadata": {
        "id": "J_qKwN5WgdKF"
      },
      "execution_count": null,
      "outputs": []
    },
    {
      "cell_type": "code",
      "execution_count": null,
      "metadata": {
        "id": "YBO45falUVol"
      },
      "outputs": [],
      "source": [
        "def on_click_classify(change):\n",
        "    img = PILImage.create(btn_upload.data[-1])\n",
        "    #out_pl.clear_output()\n",
        "    with out_pl: display(img.to_thumb(128,128))\n",
        "    pred,pred_idx,probs = learn_inf.predict(img)\n",
        "\n",
        "    lbl_pred.value = f'Prediction: {pred}; Probability: {probs[pred_idx]:.04f}'\n",
        "\n",
        "btn_run.on_click(on_click_classify)"
      ]
    },
    {
      "cell_type": "code",
      "source": [
        "btn_upload = widgets.FileUpload()"
      ],
      "metadata": {
        "id": "_Ayr8y1DonjF"
      },
      "execution_count": null,
      "outputs": []
    },
    {
      "cell_type": "code",
      "execution_count": null,
      "metadata": {
        "id": "IoizcsfqUVom",
        "colab": {
          "base_uri": "https://localhost:8080/",
          "height": 464,
          "referenced_widgets": [
            "14328d6a5aa746ee9eaa26e9dfc61fdc",
            "16b7596d409c400293e25b1d84ef0d29",
            "1406fe0c7e4845a3a78ad9286e04aeb8",
            "d737cede80f24407abd4856f26754378",
            "484c2a4fa4764e6da131a687c974ea95",
            "fb1f3b8500314ae6837abf7217af2950",
            "d4137a1598284439a43717b4c01abf2c",
            "83b3e8e805c14babb98febff232fbf4f",
            "05c073d5961e41bda7a95a31ebdd86ba",
            "16cc1a787c2348f79ac5982b0606bc1a",
            "337458da10a24646941350ac9040c77b",
            "53965c1a85624b789720f8ed2e2ac680",
            "bbed231d16984aee9e12a7aeb94753c5",
            "ddb46e897acf4a049b8c36f9a3631b88",
            "1765615161d048d6a18b22ef832b4f22",
            "c8b03c6c8c9c498488c3ee0fa657ce6d"
          ]
        },
        "outputId": "9f902323-6064-4396-ee4b-62b473f3088f"
      },
      "outputs": [
        {
          "output_type": "display_data",
          "data": {
            "text/plain": [
              "VBox(children=(Label(value='Select your animal!'), FileUpload(value={}, description='Upload'), Button(descript…"
            ],
            "application/vnd.jupyter.widget-view+json": {
              "version_major": 2,
              "version_minor": 0,
              "model_id": "14328d6a5aa746ee9eaa26e9dfc61fdc"
            }
          },
          "metadata": {}
        },
        {
          "output_type": "error",
          "ename": "NameError",
          "evalue": "ignored",
          "traceback": [
            "\u001b[0;31m---------------------------------------------------------------------------\u001b[0m",
            "\u001b[0;31mNameError\u001b[0m                                 Traceback (most recent call last)",
            "\u001b[0;32m<ipython-input-4-5b204f26ccc7>\u001b[0m in \u001b[0;36mon_click_classify\u001b[0;34m(change)\u001b[0m\n\u001b[1;32m      3\u001b[0m     \u001b[0mout_pl\u001b[0m\u001b[0;34m.\u001b[0m\u001b[0mclear_output\u001b[0m\u001b[0;34m(\u001b[0m\u001b[0;34m)\u001b[0m\u001b[0;34m\u001b[0m\u001b[0;34m\u001b[0m\u001b[0m\n\u001b[1;32m      4\u001b[0m     \u001b[0;32mwith\u001b[0m \u001b[0mout_pl\u001b[0m\u001b[0;34m:\u001b[0m \u001b[0mdisplay\u001b[0m\u001b[0;34m(\u001b[0m\u001b[0mimg\u001b[0m\u001b[0;34m.\u001b[0m\u001b[0mto_thumb\u001b[0m\u001b[0;34m(\u001b[0m\u001b[0;36m128\u001b[0m\u001b[0;34m,\u001b[0m\u001b[0;36m128\u001b[0m\u001b[0;34m)\u001b[0m\u001b[0;34m)\u001b[0m\u001b[0;34m\u001b[0m\u001b[0;34m\u001b[0m\u001b[0m\n\u001b[0;32m----> 5\u001b[0;31m     \u001b[0mpred\u001b[0m\u001b[0;34m,\u001b[0m\u001b[0mpred_idx\u001b[0m\u001b[0;34m,\u001b[0m\u001b[0mprobs\u001b[0m \u001b[0;34m=\u001b[0m \u001b[0mlearn_inf\u001b[0m\u001b[0;34m.\u001b[0m\u001b[0mpredict\u001b[0m\u001b[0;34m(\u001b[0m\u001b[0mimg\u001b[0m\u001b[0;34m)\u001b[0m\u001b[0;34m\u001b[0m\u001b[0;34m\u001b[0m\u001b[0m\n\u001b[0m\u001b[1;32m      6\u001b[0m     \u001b[0mlbl_pred\u001b[0m\u001b[0;34m.\u001b[0m\u001b[0mvalue\u001b[0m \u001b[0;34m=\u001b[0m \u001b[0;34mf'Prediction: {pred}; Probability: {probs[pred_idx]:.04f}'\u001b[0m\u001b[0;34m\u001b[0m\u001b[0;34m\u001b[0m\u001b[0m\n\u001b[1;32m      7\u001b[0m \u001b[0;34m\u001b[0m\u001b[0m\n",
            "\u001b[0;31mNameError\u001b[0m: name 'learn_inf' is not defined"
          ]
        }
      ],
      "source": [
        "out_pl = widgets.Output()\n",
        "\n",
        "VBox([widgets.Label('Select your animal!'),\n",
        "      btn_upload, btn_run, out_pl, lbl_pred])"
      ]
    },
    {
      "cell_type": "code",
      "source": [
        "!jupyter serverextension enable --sys-prefix voila"
      ],
      "metadata": {
        "id": "L1KXVwxqvbPe"
      },
      "execution_count": null,
      "outputs": []
    }
  ],
  "metadata": {
    "jupytext": {
      "split_at_heading": true
    },
    "kernelspec": {
      "display_name": "Python 3",
      "name": "python3"
    },
    "colab": {
      "provenance": [],
      "gpuType": "T4"
    },
    "accelerator": "GPU",
    "widgets": {
      "application/vnd.jupyter.widget-state+json": {
        "14328d6a5aa746ee9eaa26e9dfc61fdc": {
          "model_module": "@jupyter-widgets/controls",
          "model_name": "VBoxModel",
          "model_module_version": "1.5.0",
          "state": {
            "_dom_classes": [],
            "_model_module": "@jupyter-widgets/controls",
            "_model_module_version": "1.5.0",
            "_model_name": "VBoxModel",
            "_view_count": null,
            "_view_module": "@jupyter-widgets/controls",
            "_view_module_version": "1.5.0",
            "_view_name": "VBoxView",
            "box_style": "",
            "children": [
              "IPY_MODEL_16b7596d409c400293e25b1d84ef0d29",
              "IPY_MODEL_1406fe0c7e4845a3a78ad9286e04aeb8",
              "IPY_MODEL_d737cede80f24407abd4856f26754378",
              "IPY_MODEL_484c2a4fa4764e6da131a687c974ea95",
              "IPY_MODEL_fb1f3b8500314ae6837abf7217af2950"
            ],
            "layout": "IPY_MODEL_d4137a1598284439a43717b4c01abf2c"
          }
        },
        "16b7596d409c400293e25b1d84ef0d29": {
          "model_module": "@jupyter-widgets/controls",
          "model_name": "LabelModel",
          "model_module_version": "1.5.0",
          "state": {
            "_dom_classes": [],
            "_model_module": "@jupyter-widgets/controls",
            "_model_module_version": "1.5.0",
            "_model_name": "LabelModel",
            "_view_count": null,
            "_view_module": "@jupyter-widgets/controls",
            "_view_module_version": "1.5.0",
            "_view_name": "LabelView",
            "description": "",
            "description_tooltip": null,
            "layout": "IPY_MODEL_83b3e8e805c14babb98febff232fbf4f",
            "placeholder": "​",
            "style": "IPY_MODEL_05c073d5961e41bda7a95a31ebdd86ba",
            "value": "Select your animal!"
          }
        },
        "1406fe0c7e4845a3a78ad9286e04aeb8": {
          "model_module": "@jupyter-widgets/controls",
          "model_name": "FileUploadModel",
          "model_module_version": "1.5.0",
          "state": {
            "_counter": 1,
            "_dom_classes": [],
            "_model_module": "@jupyter-widgets/controls",
            "_model_module_version": "1.5.0",
            "_model_name": "FileUploadModel",
            "_view_count": null,
            "_view_module": "@jupyter-widgets/controls",
            "_view_module_version": "1.5.0",
            "_view_name": "FileUploadView",
            "accept": "",
            "button_style": "",
            "data": [
              null
            ],
            "description": "Upload",
            "description_tooltip": null,
            "disabled": false,
            "error": "",
            "icon": "upload",
            "layout": "IPY_MODEL_16cc1a787c2348f79ac5982b0606bc1a",
            "metadata": [
              {
                "name": "fish.jpg",
                "type": "image/jpeg",
                "size": 6416,
                "lastModified": 1691845576732
              }
            ],
            "multiple": false,
            "style": "IPY_MODEL_337458da10a24646941350ac9040c77b"
          }
        },
        "d737cede80f24407abd4856f26754378": {
          "model_module": "@jupyter-widgets/controls",
          "model_name": "ButtonModel",
          "model_module_version": "1.5.0",
          "state": {
            "_dom_classes": [],
            "_model_module": "@jupyter-widgets/controls",
            "_model_module_version": "1.5.0",
            "_model_name": "ButtonModel",
            "_view_count": null,
            "_view_module": "@jupyter-widgets/controls",
            "_view_module_version": "1.5.0",
            "_view_name": "ButtonView",
            "button_style": "",
            "description": "Classify",
            "disabled": false,
            "icon": "",
            "layout": "IPY_MODEL_53965c1a85624b789720f8ed2e2ac680",
            "style": "IPY_MODEL_bbed231d16984aee9e12a7aeb94753c5",
            "tooltip": ""
          }
        },
        "484c2a4fa4764e6da131a687c974ea95": {
          "model_module": "@jupyter-widgets/output",
          "model_name": "OutputModel",
          "model_module_version": "1.0.0",
          "state": {
            "_dom_classes": [],
            "_model_module": "@jupyter-widgets/output",
            "_model_module_version": "1.0.0",
            "_model_name": "OutputModel",
            "_view_count": null,
            "_view_module": "@jupyter-widgets/output",
            "_view_module_version": "1.0.0",
            "_view_name": "OutputView",
            "layout": "IPY_MODEL_c8b03c6c8c9c498488c3ee0fa657ce6d",
            "msg_id": "",
            "outputs": [
              {
                "output_type": "display_data",
                "data": {
                  "text/plain": "<PIL.Image.Image image mode=RGB size=128x85>",
                  "image/png": "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\n"
                },
                "metadata": {}
              }
            ]
          }
        },
        "fb1f3b8500314ae6837abf7217af2950": {
          "model_module": "@jupyter-widgets/controls",
          "model_name": "LabelModel",
          "model_module_version": "1.5.0",
          "state": {
            "_dom_classes": [],
            "_model_module": "@jupyter-widgets/controls",
            "_model_module_version": "1.5.0",
            "_model_name": "LabelModel",
            "_view_count": null,
            "_view_module": "@jupyter-widgets/controls",
            "_view_module_version": "1.5.0",
            "_view_name": "LabelView",
            "description": "",
            "description_tooltip": null,
            "layout": "IPY_MODEL_ddb46e897acf4a049b8c36f9a3631b88",
            "placeholder": "​",
            "style": "IPY_MODEL_1765615161d048d6a18b22ef832b4f22",
            "value": ""
          }
        },
        "d4137a1598284439a43717b4c01abf2c": {
          "model_module": "@jupyter-widgets/base",
          "model_name": "LayoutModel",
          "model_module_version": "1.2.0",
          "state": {
            "_model_module": "@jupyter-widgets/base",
            "_model_module_version": "1.2.0",
            "_model_name": "LayoutModel",
            "_view_count": null,
            "_view_module": "@jupyter-widgets/base",
            "_view_module_version": "1.2.0",
            "_view_name": "LayoutView",
            "align_content": null,
            "align_items": null,
            "align_self": null,
            "border": null,
            "bottom": null,
            "display": null,
            "flex": null,
            "flex_flow": null,
            "grid_area": null,
            "grid_auto_columns": null,
            "grid_auto_flow": null,
            "grid_auto_rows": null,
            "grid_column": null,
            "grid_gap": null,
            "grid_row": null,
            "grid_template_areas": null,
            "grid_template_columns": null,
            "grid_template_rows": null,
            "height": null,
            "justify_content": null,
            "justify_items": null,
            "left": null,
            "margin": null,
            "max_height": null,
            "max_width": null,
            "min_height": null,
            "min_width": null,
            "object_fit": null,
            "object_position": null,
            "order": null,
            "overflow": null,
            "overflow_x": null,
            "overflow_y": null,
            "padding": null,
            "right": null,
            "top": null,
            "visibility": null,
            "width": null
          }
        },
        "83b3e8e805c14babb98febff232fbf4f": {
          "model_module": "@jupyter-widgets/base",
          "model_name": "LayoutModel",
          "model_module_version": "1.2.0",
          "state": {
            "_model_module": "@jupyter-widgets/base",
            "_model_module_version": "1.2.0",
            "_model_name": "LayoutModel",
            "_view_count": null,
            "_view_module": "@jupyter-widgets/base",
            "_view_module_version": "1.2.0",
            "_view_name": "LayoutView",
            "align_content": null,
            "align_items": null,
            "align_self": null,
            "border": null,
            "bottom": null,
            "display": null,
            "flex": null,
            "flex_flow": null,
            "grid_area": null,
            "grid_auto_columns": null,
            "grid_auto_flow": null,
            "grid_auto_rows": null,
            "grid_column": null,
            "grid_gap": null,
            "grid_row": null,
            "grid_template_areas": null,
            "grid_template_columns": null,
            "grid_template_rows": null,
            "height": null,
            "justify_content": null,
            "justify_items": null,
            "left": null,
            "margin": null,
            "max_height": null,
            "max_width": null,
            "min_height": null,
            "min_width": null,
            "object_fit": null,
            "object_position": null,
            "order": null,
            "overflow": null,
            "overflow_x": null,
            "overflow_y": null,
            "padding": null,
            "right": null,
            "top": null,
            "visibility": null,
            "width": null
          }
        },
        "05c073d5961e41bda7a95a31ebdd86ba": {
          "model_module": "@jupyter-widgets/controls",
          "model_name": "DescriptionStyleModel",
          "model_module_version": "1.5.0",
          "state": {
            "_model_module": "@jupyter-widgets/controls",
            "_model_module_version": "1.5.0",
            "_model_name": "DescriptionStyleModel",
            "_view_count": null,
            "_view_module": "@jupyter-widgets/base",
            "_view_module_version": "1.2.0",
            "_view_name": "StyleView",
            "description_width": ""
          }
        },
        "16cc1a787c2348f79ac5982b0606bc1a": {
          "model_module": "@jupyter-widgets/base",
          "model_name": "LayoutModel",
          "model_module_version": "1.2.0",
          "state": {
            "_model_module": "@jupyter-widgets/base",
            "_model_module_version": "1.2.0",
            "_model_name": "LayoutModel",
            "_view_count": null,
            "_view_module": "@jupyter-widgets/base",
            "_view_module_version": "1.2.0",
            "_view_name": "LayoutView",
            "align_content": null,
            "align_items": null,
            "align_self": null,
            "border": null,
            "bottom": null,
            "display": null,
            "flex": null,
            "flex_flow": null,
            "grid_area": null,
            "grid_auto_columns": null,
            "grid_auto_flow": null,
            "grid_auto_rows": null,
            "grid_column": null,
            "grid_gap": null,
            "grid_row": null,
            "grid_template_areas": null,
            "grid_template_columns": null,
            "grid_template_rows": null,
            "height": null,
            "justify_content": null,
            "justify_items": null,
            "left": null,
            "margin": null,
            "max_height": null,
            "max_width": null,
            "min_height": null,
            "min_width": null,
            "object_fit": null,
            "object_position": null,
            "order": null,
            "overflow": null,
            "overflow_x": null,
            "overflow_y": null,
            "padding": null,
            "right": null,
            "top": null,
            "visibility": null,
            "width": null
          }
        },
        "337458da10a24646941350ac9040c77b": {
          "model_module": "@jupyter-widgets/controls",
          "model_name": "ButtonStyleModel",
          "model_module_version": "1.5.0",
          "state": {
            "_model_module": "@jupyter-widgets/controls",
            "_model_module_version": "1.5.0",
            "_model_name": "ButtonStyleModel",
            "_view_count": null,
            "_view_module": "@jupyter-widgets/base",
            "_view_module_version": "1.2.0",
            "_view_name": "StyleView",
            "button_color": null,
            "font_weight": ""
          }
        },
        "53965c1a85624b789720f8ed2e2ac680": {
          "model_module": "@jupyter-widgets/base",
          "model_name": "LayoutModel",
          "model_module_version": "1.2.0",
          "state": {
            "_model_module": "@jupyter-widgets/base",
            "_model_module_version": "1.2.0",
            "_model_name": "LayoutModel",
            "_view_count": null,
            "_view_module": "@jupyter-widgets/base",
            "_view_module_version": "1.2.0",
            "_view_name": "LayoutView",
            "align_content": null,
            "align_items": null,
            "align_self": null,
            "border": null,
            "bottom": null,
            "display": null,
            "flex": null,
            "flex_flow": null,
            "grid_area": null,
            "grid_auto_columns": null,
            "grid_auto_flow": null,
            "grid_auto_rows": null,
            "grid_column": null,
            "grid_gap": null,
            "grid_row": null,
            "grid_template_areas": null,
            "grid_template_columns": null,
            "grid_template_rows": null,
            "height": null,
            "justify_content": null,
            "justify_items": null,
            "left": null,
            "margin": null,
            "max_height": null,
            "max_width": null,
            "min_height": null,
            "min_width": null,
            "object_fit": null,
            "object_position": null,
            "order": null,
            "overflow": null,
            "overflow_x": null,
            "overflow_y": null,
            "padding": null,
            "right": null,
            "top": null,
            "visibility": null,
            "width": null
          }
        },
        "bbed231d16984aee9e12a7aeb94753c5": {
          "model_module": "@jupyter-widgets/controls",
          "model_name": "ButtonStyleModel",
          "model_module_version": "1.5.0",
          "state": {
            "_model_module": "@jupyter-widgets/controls",
            "_model_module_version": "1.5.0",
            "_model_name": "ButtonStyleModel",
            "_view_count": null,
            "_view_module": "@jupyter-widgets/base",
            "_view_module_version": "1.2.0",
            "_view_name": "StyleView",
            "button_color": null,
            "font_weight": ""
          }
        },
        "ddb46e897acf4a049b8c36f9a3631b88": {
          "model_module": "@jupyter-widgets/base",
          "model_name": "LayoutModel",
          "model_module_version": "1.2.0",
          "state": {
            "_model_module": "@jupyter-widgets/base",
            "_model_module_version": "1.2.0",
            "_model_name": "LayoutModel",
            "_view_count": null,
            "_view_module": "@jupyter-widgets/base",
            "_view_module_version": "1.2.0",
            "_view_name": "LayoutView",
            "align_content": null,
            "align_items": null,
            "align_self": null,
            "border": null,
            "bottom": null,
            "display": null,
            "flex": null,
            "flex_flow": null,
            "grid_area": null,
            "grid_auto_columns": null,
            "grid_auto_flow": null,
            "grid_auto_rows": null,
            "grid_column": null,
            "grid_gap": null,
            "grid_row": null,
            "grid_template_areas": null,
            "grid_template_columns": null,
            "grid_template_rows": null,
            "height": null,
            "justify_content": null,
            "justify_items": null,
            "left": null,
            "margin": null,
            "max_height": null,
            "max_width": null,
            "min_height": null,
            "min_width": null,
            "object_fit": null,
            "object_position": null,
            "order": null,
            "overflow": null,
            "overflow_x": null,
            "overflow_y": null,
            "padding": null,
            "right": null,
            "top": null,
            "visibility": null,
            "width": null
          }
        },
        "1765615161d048d6a18b22ef832b4f22": {
          "model_module": "@jupyter-widgets/controls",
          "model_name": "DescriptionStyleModel",
          "model_module_version": "1.5.0",
          "state": {
            "_model_module": "@jupyter-widgets/controls",
            "_model_module_version": "1.5.0",
            "_model_name": "DescriptionStyleModel",
            "_view_count": null,
            "_view_module": "@jupyter-widgets/base",
            "_view_module_version": "1.2.0",
            "_view_name": "StyleView",
            "description_width": ""
          }
        },
        "c8b03c6c8c9c498488c3ee0fa657ce6d": {
          "model_module": "@jupyter-widgets/base",
          "model_name": "LayoutModel",
          "model_module_version": "1.2.0",
          "state": {
            "_model_module": "@jupyter-widgets/base",
            "_model_module_version": "1.2.0",
            "_model_name": "LayoutModel",
            "_view_count": null,
            "_view_module": "@jupyter-widgets/base",
            "_view_module_version": "1.2.0",
            "_view_name": "LayoutView",
            "align_content": null,
            "align_items": null,
            "align_self": null,
            "border": null,
            "bottom": null,
            "display": null,
            "flex": null,
            "flex_flow": null,
            "grid_area": null,
            "grid_auto_columns": null,
            "grid_auto_flow": null,
            "grid_auto_rows": null,
            "grid_column": null,
            "grid_gap": null,
            "grid_row": null,
            "grid_template_areas": null,
            "grid_template_columns": null,
            "grid_template_rows": null,
            "height": null,
            "justify_content": null,
            "justify_items": null,
            "left": null,
            "margin": null,
            "max_height": null,
            "max_width": null,
            "min_height": null,
            "min_width": null,
            "object_fit": null,
            "object_position": null,
            "order": null,
            "overflow": null,
            "overflow_x": null,
            "overflow_y": null,
            "padding": null,
            "right": null,
            "top": null,
            "visibility": null,
            "width": null
          }
        }
      }
    }
  },
  "nbformat": 4,
  "nbformat_minor": 0
}