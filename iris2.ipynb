{
 "cells": [
  {
   "cell_type": "code",
   "execution_count": 1,
   "id": "23fefff5",
   "metadata": {},
   "outputs": [],
   "source": [
    "import plotly.graph_objects as go\n",
    "import pandas as pd\n",
    "from sklearn.datasets import load_iris\n",
    "data = load_iris()\n",
    "df = pd.DataFrame(data = data['data'], columns = data.feature_names)\n",
    "species_dict = {0:'setosa', 1: 'versicolor', 2: 'virginica'}\n",
    "df['species'] = [species_dict[x] for x in data.target]"
   ]
  },
  {
   "cell_type": "code",
   "execution_count": 2,
   "id": "4b2b7bbd",
   "metadata": {},
   "outputs": [],
   "source": [
    "x = 'sepal length (cm)'\n",
    "y = 'sepal width (cm)'\n",
    "df_setosa = df[df.species == 'setosa']\n",
    "df_versicolor = df[df.species == 'versicolor']\n",
    "df_virginica = df[df.species == 'virginica']\n",
    "setosa = go.Scatter(x=df_setosa[x], y=df_setosa[y], mode='markers', name='setosa')\n",
    "versicolor = go.Scatter(x=df_versicolor[x], y=df_versicolor[y], mode='markers', name='versicolor')\n",
    "virginica = go.Scatter(x=df_virginica[x], y=df_virginica[y], mode='markers', name='virginica')\n",
    "g = go.FigureWidget(data=[setosa, versicolor, virginica],\n",
    " layout=go.Layout(\n",
    " title={\n",
    " 'text': \"Iris Measurements\",\n",
    " 'y':0.85,\n",
    " 'x':0.5,\n",
    " 'xanchor': 'center',\n",
    " 'yanchor': 'top'},\n",
    " xaxis_title=x,\n",
    " yaxis_title=y,\n",
    " legend_title = \"Iris Species\"\n",
    " ))"
   ]
  },
  {
   "cell_type": "code",
   "execution_count": 3,
   "id": "fa1eb47b",
   "metadata": {},
   "outputs": [],
   "source": [
    "from ipywidgets import Dropdown\n",
    "select_x = Dropdown(options = data.feature_names)\n",
    "select_y = Dropdown(options = data.feature_names[::-1])"
   ]
  },
  {
   "cell_type": "code",
   "execution_count": 4,
   "id": "2dbc7c9f",
   "metadata": {},
   "outputs": [],
   "source": [
    "def response(change): \n",
    "    with g.batch_update():\n",
    "        g.data[0].x = df_setosa[select_x.value]\n",
    "        g.data[1].x = df_versicolor[select_x.value]\n",
    "        g.data[2].x = df_virginica[select_x.value]  \n",
    "        g.data[0].y = df_setosa[select_y.value]\n",
    "        g.data[1].y = df_versicolor[select_y.value]\n",
    "        g.data[2].y = df_virginica[select_y.value]  \n",
    "        g.layout = go.Layout(\n",
    "        title={'text': \"Iris Measurements\", 'y':0.85, 'x':0.5, 'xanchor': 'center', 'yanchor': 'top'},\n",
    "        xaxis_title=select_x.value, yaxis_title=select_y.value, legend_title = \"Iris Species\")"
   ]
  },
  {
   "cell_type": "code",
   "execution_count": 5,
   "id": "9f80c16e",
   "metadata": {},
   "outputs": [],
   "source": [
    "select_x.observe(response, names=\"value\")\n",
    "select_y.observe(response, names = \"value\")"
   ]
  },
  {
   "cell_type": "code",
   "execution_count": 6,
   "id": "37e6cbbd",
   "metadata": {
    "scrolled": false
   },
   "outputs": [
    {
     "data": {
      "application/vnd.jupyter.widget-view+json": {
       "model_id": "20bf61f248a1401997fd51de64035175",
       "version_major": 2,
       "version_minor": 0
      },
      "text/plain": [
       "VBox(children=(HBox(children=(Dropdown(options=('sepal length (cm)', 'sepal width (cm)', 'petal length (cm)', …"
      ]
     },
     "execution_count": 6,
     "metadata": {},
     "output_type": "execute_result"
    }
   ],
   "source": [
    "from ipywidgets import HBox, VBox\n",
    "container = HBox([select_x, select_y])\n",
    "VBox([container, g])"
   ]
  },
  {
   "cell_type": "code",
   "execution_count": 7,
   "id": "dab3552f",
   "metadata": {},
   "outputs": [
    {
     "data": {
      "application/vnd.jupyter.widget-view+json": {
       "model_id": "0c813bd2728048ec97aacb4d500a3221",
       "version_major": 2,
       "version_minor": 0
      },
      "text/plain": [
       "interactive(children=(BoundedFloatText(value=8.0, description='sepal length', max=8.0, min=4.0, step=0.2), Bou…"
      ]
     },
     "metadata": {},
     "output_type": "display_data"
    }
   ],
   "source": [
    "from sklearn.model_selection import train_test_split\n",
    "from sklearn.neighbors import KNeighborsClassifier\n",
    "from sklearn import metrics\n",
    "import pickle\n",
    "from ipywidgets import BoundedFloatText, interact\n",
    "knn_model = pickle.load(open('knn.pickle', 'rb'))\n",
    "\n",
    "sepal_length = BoundedFloatText(value = 8, min = 4.0, max = 8.0, step = 0.2, description = 'sepal length')\n",
    "sepal_width = BoundedFloatText(value = 8, min = 1.8, max = 4.6, step = 0.2, description = 'sepal width')\n",
    "petal_length = BoundedFloatText(value = 8, min = 0.8, max = 7, step    = 0.2, description = 'petal length')\n",
    "petal_width = BoundedFloatText(value = 8, min = 0.0, max = 2.8, step = 0.2, description = 'petal width')\n",
    "\n",
    "from ipywidgets import Output, HTML\n",
    "def run_model(sepal_length, sepal_width, petal_length, petal_width):\n",
    "    result = knn_model.predict([[sepal_length, sepal_width, \n",
    "                                 petal_length, petal_width]])[0]\n",
    "    out = Output(layout={'border': '1px solid white'})\n",
    "    with out:\n",
    "        display(HTML(value=f'Predicted species: <b>{result.capitalize()}</b>'))\n",
    "    return out\n",
    "\n",
    "interact(run_model,\n",
    " sepal_length = BoundedFloatText(value = 8, min = 4.0, max = 8.0, step = 0.2, description = 'sepal length'),\n",
    " sepal_width = BoundedFloatText(value = 8, min = 1.8, max = 4.6, step = 0.2, description = 'sepal width'),\n",
    " petal_length = BoundedFloatText(value = 8, min = 0.8, max = 7, step = 0.2, description = 'petal length'),\n",
    " petal_width = BoundedFloatText(value = 8, min = 0.0, max = 2.8, step = 0.2, description = 'petal width'),\n",
    " );"
   ]
  }
 ],
 "metadata": {
  "kernelspec": {
   "display_name": "Python 3 (ipykernel)",
   "language": "python",
   "name": "python3"
  },
  "language_info": {
   "codemirror_mode": {
    "name": "ipython",
    "version": 3
   },
   "file_extension": ".py",
   "mimetype": "text/x-python",
   "name": "python",
   "nbconvert_exporter": "python",
   "pygments_lexer": "ipython3",
   "version": "3.11.3"
  }
 },
 "nbformat": 4,
 "nbformat_minor": 5
}
